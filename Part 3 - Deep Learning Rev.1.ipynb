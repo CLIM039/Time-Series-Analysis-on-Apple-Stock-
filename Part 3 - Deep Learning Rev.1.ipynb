{
 "cells": [
  {
   "cell_type": "markdown",
   "id": "db9b25c1",
   "metadata": {},
   "source": [
    "### LSTM Deep Learning Model"
   ]
  },
  {
   "cell_type": "markdown",
   "id": "fe3a3da5",
   "metadata": {},
   "source": [
    "Import nessasary library"
   ]
  },
  {
   "cell_type": "code",
   "execution_count": 1,
   "id": "40fbc475",
   "metadata": {},
   "outputs": [],
   "source": [
    "import sys, os\n",
    "import numpy as np\n",
    "import matplotlib.pyplot as plt\n",
    "import warnings\n",
    "warnings.simplefilter(action='ignore')\n",
    "import seaborn as sns\n",
    "#os.chdir('data')\n",
    "#from colorsetup import colors, palette\n",
    "#plt.style.use('fivethirtyeight')\n",
    "#sns.set_palette(palette)\n",
    "import pandas as pd\n",
    "from datetime import datetime\n",
    "import tensorflow as tf\n",
    "\n",
    "from tensorflow import keras\n",
    "from tensorflow.keras import Sequential\n",
    "from tensorflow.keras.layers import Dense, SimpleRNN, LSTM, Activation, Dropout\n",
    "\n",
    "import math\n",
    "from sklearn.preprocessing import MinMaxScaler\n",
    "from sklearn.metrics import mean_squared_error"
   ]
  },
  {
   "cell_type": "markdown",
   "id": "42d5adac",
   "metadata": {},
   "source": [
    "Import Data"
   ]
  },
  {
   "cell_type": "code",
   "execution_count": 2,
   "id": "e0c4efda",
   "metadata": {},
   "outputs": [
    {
     "data": {
      "text/html": [
       "<div>\n",
       "<style scoped>\n",
       "    .dataframe tbody tr th:only-of-type {\n",
       "        vertical-align: middle;\n",
       "    }\n",
       "\n",
       "    .dataframe tbody tr th {\n",
       "        vertical-align: top;\n",
       "    }\n",
       "\n",
       "    .dataframe thead th {\n",
       "        text-align: right;\n",
       "    }\n",
       "</style>\n",
       "<table border=\"1\" class=\"dataframe\">\n",
       "  <thead>\n",
       "    <tr style=\"text-align: right;\">\n",
       "      <th></th>\n",
       "      <th>Open</th>\n",
       "      <th>High</th>\n",
       "      <th>Low</th>\n",
       "      <th>Close</th>\n",
       "      <th>Volume</th>\n",
       "      <th>Dividends</th>\n",
       "      <th>Stock Splits</th>\n",
       "    </tr>\n",
       "    <tr>\n",
       "      <th>Date</th>\n",
       "      <th></th>\n",
       "      <th></th>\n",
       "      <th></th>\n",
       "      <th></th>\n",
       "      <th></th>\n",
       "      <th></th>\n",
       "      <th></th>\n",
       "    </tr>\n",
       "  </thead>\n",
       "  <tbody>\n",
       "    <tr>\n",
       "      <th>2020-12-31</th>\n",
       "      <td>133.088938</td>\n",
       "      <td>133.744064</td>\n",
       "      <td>130.746382</td>\n",
       "      <td>131.709213</td>\n",
       "      <td>99116600</td>\n",
       "      <td>0.0</td>\n",
       "      <td>0</td>\n",
       "    </tr>\n",
       "    <tr>\n",
       "      <th>2021-01-04</th>\n",
       "      <td>132.533066</td>\n",
       "      <td>132.622397</td>\n",
       "      <td>125.823032</td>\n",
       "      <td>128.453445</td>\n",
       "      <td>143301900</td>\n",
       "      <td>0.0</td>\n",
       "      <td>0</td>\n",
       "    </tr>\n",
       "    <tr>\n",
       "      <th>2021-01-05</th>\n",
       "      <td>127.937301</td>\n",
       "      <td>130.766241</td>\n",
       "      <td>127.480694</td>\n",
       "      <td>130.041626</td>\n",
       "      <td>97664900</td>\n",
       "      <td>0.0</td>\n",
       "      <td>0</td>\n",
       "    </tr>\n",
       "    <tr>\n",
       "      <th>2021-01-06</th>\n",
       "      <td>126.775939</td>\n",
       "      <td>130.081327</td>\n",
       "      <td>125.445840</td>\n",
       "      <td>125.664215</td>\n",
       "      <td>155088000</td>\n",
       "      <td>0.0</td>\n",
       "      <td>0</td>\n",
       "    </tr>\n",
       "    <tr>\n",
       "      <th>2021-01-07</th>\n",
       "      <td>127.411196</td>\n",
       "      <td>130.657029</td>\n",
       "      <td>126.914892</td>\n",
       "      <td>129.952271</td>\n",
       "      <td>109578200</td>\n",
       "      <td>0.0</td>\n",
       "      <td>0</td>\n",
       "    </tr>\n",
       "  </tbody>\n",
       "</table>\n",
       "</div>"
      ],
      "text/plain": [
       "                  Open        High         Low       Close     Volume  \\\n",
       "Date                                                                    \n",
       "2020-12-31  133.088938  133.744064  130.746382  131.709213   99116600   \n",
       "2021-01-04  132.533066  132.622397  125.823032  128.453445  143301900   \n",
       "2021-01-05  127.937301  130.766241  127.480694  130.041626   97664900   \n",
       "2021-01-06  126.775939  130.081327  125.445840  125.664215  155088000   \n",
       "2021-01-07  127.411196  130.657029  126.914892  129.952271  109578200   \n",
       "\n",
       "            Dividends  Stock Splits  \n",
       "Date                                 \n",
       "2020-12-31        0.0             0  \n",
       "2021-01-04        0.0             0  \n",
       "2021-01-05        0.0             0  \n",
       "2021-01-06        0.0             0  \n",
       "2021-01-07        0.0             0  "
      ]
     },
     "execution_count": 2,
     "metadata": {},
     "output_type": "execute_result"
    }
   ],
   "source": [
    "import yfinance as yf\n",
    "\n",
    "#define the ticker symbol\n",
    "tickerSymbol = 'AAPL'\n",
    "\n",
    "#get data on this ticker\n",
    "tickerData = yf.Ticker(tickerSymbol)\n",
    "\n",
    "#get the historical prices for this ticker\n",
    "stock_master = tickerData.history(period='1d', start='2021-1-1', end='2022-2-9')\n",
    "\n",
    "#see your data\n",
    "stock_master.head(5)"
   ]
  },
  {
   "cell_type": "code",
   "execution_count": 3,
   "id": "0f47b572",
   "metadata": {},
   "outputs": [
    {
     "data": {
      "text/plain": [
       "<AxesSubplot:xlabel='Date'>"
      ]
     },
     "execution_count": 3,
     "metadata": {},
     "output_type": "execute_result"
    },
    {
     "data": {
      "image/png": "[encoded data removed]",
      "text/plain": [
       "<Figure size 1080x360 with 1 Axes>"
      ]
     },
     "metadata": {
      "needs_background": "light"
     },
     "output_type": "display_data"
    }
   ],
   "source": [
    "import matplotlib.pyplot as plt\n",
    "\n",
    "#quick plot of full time series\n",
    "plt.figure(figsize = (15,5))\n",
    "stock_master['Close'].plot()"
   ]
  },
  {
   "cell_type": "code",
   "execution_count": 4,
   "id": "4ac60c4d",
   "metadata": {},
   "outputs": [
    {
     "name": "stdout",
     "output_type": "stream",
     "text": [
      "<class 'numpy.ndarray'>\n",
      "279\n"
     ]
    },
    {
     "data": {
      "image/png": "[encoded data removed]",
      "text/plain": [
       "<Figure size 432x288 with 1 Axes>"
      ]
     },
     "metadata": {
      "needs_background": "light"
     },
     "output_type": "display_data"
    }
   ],
   "source": [
    "dataset = stock_master[['Close']].to_numpy()\n",
    "print(type(dataset))\n",
    "print(len(dataset))\n",
    "plt.plot(dataset)\n",
    "plt.show()"
   ]
  },
  {
   "cell_type": "code",
   "execution_count": 5,
   "id": "d6d42d17",
   "metadata": {},
   "outputs": [],
   "source": [
    "# normalize the dataset\n",
    "scaler = MinMaxScaler(feature_range=(0, 1))\n",
    "dataset = scaler.fit_transform(dataset)"
   ]
  },
  {
   "cell_type": "code",
   "execution_count": 6,
   "id": "6550fa71",
   "metadata": {},
   "outputs": [
    {
     "name": "stdout",
     "output_type": "stream",
     "text": [
      "223 56\n"
     ]
    }
   ],
   "source": [
    "# split into train and test sets\n",
    "train_size = int(len(dataset) * 0.80)\n",
    "test_size = len(dataset) - train_size\n",
    "train, test = dataset[0:train_size,:], dataset[train_size:len(dataset),:]\n",
    "print(len(train), len(test))"
   ]
  },
  {
   "cell_type": "code",
   "execution_count": 7,
   "id": "bb38a5ab",
   "metadata": {},
   "outputs": [],
   "source": [
    "# convert an array of values into a dataset matrix\n",
    "def create_dataset(dataset, look_back=1):\n",
    "    dataX, dataY = [], []\n",
    "    for i in range(len(dataset)-look_back-1):\n",
    "        a = dataset[i:(i+look_back), 0]\n",
    "        dataX.append(a)\n",
    "        dataY.append(dataset[i + look_back, 0])\n",
    "    return np.array(dataX), np.array(dataY)"
   ]
  },
  {
   "cell_type": "code",
   "execution_count": 8,
   "id": "7b28d6bf",
   "metadata": {},
   "outputs": [],
   "source": [
    "# reshape into X=t and Y=t+1\n",
    "look_back = 1\n",
    "trainX, trainY = create_dataset(train, look_back)\n",
    "testX, testY = create_dataset(test, look_back)"
   ]
  },
  {
   "cell_type": "code",
   "execution_count": 9,
   "id": "1c47decb",
   "metadata": {},
   "outputs": [],
   "source": [
    "# reshape input to be [samples, time steps, features]\n",
    "trainX = np.reshape(trainX, (trainX.shape[0], 1, trainX.shape[1]))\n",
    "testX = np.reshape(testX, (testX.shape[0], 1, testX.shape[1]))"
   ]
  },
  {
   "cell_type": "code",
   "execution_count": 10,
   "id": "f76a5e47",
   "metadata": {},
   "outputs": [
    {
     "name": "stdout",
     "output_type": "stream",
     "text": [
      "Training input shape: (221, 1, 1)\n",
      "Training output shape: (221,)\n",
      "Test input shape: (54, 1, 1)\n",
      "Test output shape: (54,)\n"
     ]
    }
   ],
   "source": [
    "print('Training input shape: {}'.format(trainX.shape))\n",
    "print('Training output shape: {}'.format(trainY.shape))\n",
    "print('Test input shape: {}'.format(testX.shape))\n",
    "print('Test output shape: {}'.format(testY.shape))"
   ]
  },
  {
   "cell_type": "code",
   "execution_count": 11,
   "id": "ad8a3e00",
   "metadata": {},
   "outputs": [
    {
     "name": "stdout",
     "output_type": "stream",
     "text": [
      "Epoch 1/100\n",
      "221/221 - 3s - loss: 0.0307\n",
      "Epoch 2/100\n",
      "221/221 - 0s - loss: 0.0103\n",
      "Epoch 3/100\n",
      "221/221 - 0s - loss: 0.0077\n",
      "Epoch 4/100\n",
      "221/221 - 0s - loss: 0.0051\n",
      "Epoch 5/100\n",
      "221/221 - 0s - loss: 0.0033\n",
      "Epoch 6/100\n",
      "221/221 - 0s - loss: 0.0020\n",
      "Epoch 7/100\n",
      "221/221 - 0s - loss: 0.0013\n",
      "Epoch 8/100\n",
      "221/221 - 0s - loss: 0.0011\n",
      "Epoch 9/100\n",
      "221/221 - 0s - loss: 9.8717e-04\n",
      "Epoch 10/100\n",
      "221/221 - 0s - loss: 9.7188e-04\n",
      "Epoch 11/100\n",
      "221/221 - 0s - loss: 9.7843e-04\n",
      "Epoch 12/100\n",
      "221/221 - 0s - loss: 9.4421e-04\n",
      "Epoch 13/100\n",
      "221/221 - 0s - loss: 9.7493e-04\n",
      "Epoch 14/100\n",
      "221/221 - 0s - loss: 9.9227e-04\n",
      "Epoch 15/100\n",
      "221/221 - 0s - loss: 9.8470e-04\n",
      "Epoch 16/100\n",
      "221/221 - 0s - loss: 0.0010\n",
      "Epoch 17/100\n",
      "221/221 - 1s - loss: 9.7497e-04\n",
      "Epoch 18/100\n",
      "221/221 - 0s - loss: 0.0010\n",
      "Epoch 19/100\n",
      "221/221 - 0s - loss: 9.7463e-04\n",
      "Epoch 20/100\n",
      "221/221 - 0s - loss: 9.8035e-04\n",
      "Epoch 21/100\n",
      "221/221 - 0s - loss: 9.4957e-04\n",
      "Epoch 22/100\n",
      "221/221 - 0s - loss: 9.8192e-04\n",
      "Epoch 23/100\n",
      "221/221 - 0s - loss: 0.0010\n",
      "Epoch 24/100\n",
      "221/221 - 0s - loss: 9.8478e-04\n",
      "Epoch 25/100\n",
      "221/221 - 0s - loss: 9.7339e-04\n",
      "Epoch 26/100\n",
      "221/221 - 0s - loss: 9.7675e-04\n",
      "Epoch 27/100\n",
      "221/221 - 0s - loss: 0.0010\n",
      "Epoch 28/100\n",
      "221/221 - 0s - loss: 9.8757e-04\n",
      "Epoch 29/100\n",
      "221/221 - 0s - loss: 9.8240e-04\n",
      "Epoch 30/100\n",
      "221/221 - 1s - loss: 0.0010\n",
      "Epoch 31/100\n",
      "221/221 - 0s - loss: 9.8241e-04\n",
      "Epoch 32/100\n",
      "221/221 - 0s - loss: 0.0010\n",
      "Epoch 33/100\n",
      "221/221 - 0s - loss: 0.0010\n",
      "Epoch 34/100\n",
      "221/221 - 0s - loss: 9.6800e-04\n",
      "Epoch 35/100\n",
      "221/221 - 0s - loss: 9.7351e-04\n",
      "Epoch 36/100\n",
      "221/221 - 0s - loss: 9.9122e-04\n",
      "Epoch 37/100\n",
      "221/221 - 0s - loss: 9.6855e-04\n",
      "Epoch 38/100\n",
      "221/221 - 0s - loss: 0.0010\n",
      "Epoch 39/100\n",
      "221/221 - 0s - loss: 9.5484e-04\n",
      "Epoch 40/100\n",
      "221/221 - 0s - loss: 9.7766e-04\n",
      "Epoch 41/100\n",
      "221/221 - 0s - loss: 9.9054e-04\n",
      "Epoch 42/100\n",
      "221/221 - 0s - loss: 9.8970e-04\n",
      "Epoch 43/100\n",
      "221/221 - 0s - loss: 9.9671e-04\n",
      "Epoch 44/100\n",
      "221/221 - 0s - loss: 9.8701e-04\n",
      "Epoch 45/100\n",
      "221/221 - 0s - loss: 9.8061e-04\n",
      "Epoch 46/100\n",
      "221/221 - 0s - loss: 9.7569e-04\n",
      "Epoch 47/100\n",
      "221/221 - 0s - loss: 9.7665e-04\n",
      "Epoch 48/100\n",
      "221/221 - 0s - loss: 9.8406e-04\n",
      "Epoch 49/100\n",
      "221/221 - 0s - loss: 9.8786e-04\n",
      "Epoch 50/100\n",
      "221/221 - 0s - loss: 9.4982e-04\n",
      "Epoch 51/100\n",
      "221/221 - 0s - loss: 9.5943e-04\n",
      "Epoch 52/100\n",
      "221/221 - 0s - loss: 9.8562e-04\n",
      "Epoch 53/100\n",
      "221/221 - 0s - loss: 9.9892e-04\n",
      "Epoch 54/100\n",
      "221/221 - 0s - loss: 9.9783e-04\n",
      "Epoch 55/100\n",
      "221/221 - 0s - loss: 0.0010\n",
      "Epoch 56/100\n",
      "221/221 - 0s - loss: 0.0010\n",
      "Epoch 57/100\n",
      "221/221 - 0s - loss: 9.9472e-04\n",
      "Epoch 58/100\n",
      "221/221 - 0s - loss: 9.7078e-04\n",
      "Epoch 59/100\n",
      "221/221 - 0s - loss: 0.0010\n",
      "Epoch 60/100\n",
      "221/221 - 1s - loss: 0.0010\n",
      "Epoch 61/100\n",
      "221/221 - 0s - loss: 9.7271e-04\n",
      "Epoch 62/100\n",
      "221/221 - 0s - loss: 9.7678e-04\n",
      "Epoch 63/100\n",
      "221/221 - 0s - loss: 9.7216e-04\n",
      "Epoch 64/100\n",
      "221/221 - 0s - loss: 9.7804e-04\n",
      "Epoch 65/100\n",
      "221/221 - 0s - loss: 9.5584e-04\n",
      "Epoch 66/100\n",
      "221/221 - 0s - loss: 9.7405e-04\n",
      "Epoch 67/100\n",
      "221/221 - 0s - loss: 0.0010\n",
      "Epoch 68/100\n",
      "221/221 - 0s - loss: 9.8724e-04\n",
      "Epoch 69/100\n",
      "221/221 - 0s - loss: 9.8559e-04\n",
      "Epoch 70/100\n",
      "221/221 - 0s - loss: 0.0010\n",
      "Epoch 71/100\n",
      "221/221 - 0s - loss: 9.8436e-04\n",
      "Epoch 72/100\n",
      "221/221 - 0s - loss: 9.8060e-04\n",
      "Epoch 73/100\n",
      "221/221 - 0s - loss: 9.7334e-04\n",
      "Epoch 74/100\n",
      "221/221 - 0s - loss: 0.0010\n",
      "Epoch 75/100\n",
      "221/221 - 0s - loss: 9.8046e-04\n",
      "Epoch 76/100\n",
      "221/221 - 0s - loss: 9.7308e-04\n",
      "Epoch 77/100\n",
      "221/221 - 0s - loss: 9.6814e-04\n",
      "Epoch 78/100\n",
      "221/221 - 0s - loss: 0.0010\n",
      "Epoch 79/100\n",
      "221/221 - 0s - loss: 9.7310e-04\n",
      "Epoch 80/100\n",
      "221/221 - 0s - loss: 9.7616e-04\n",
      "Epoch 81/100\n",
      "221/221 - 0s - loss: 9.7834e-04\n",
      "Epoch 82/100\n",
      "221/221 - 0s - loss: 9.9029e-04\n",
      "Epoch 83/100\n",
      "221/221 - 0s - loss: 9.8790e-04\n",
      "Epoch 84/100\n",
      "221/221 - 0s - loss: 9.8010e-04\n",
      "Epoch 85/100\n",
      "221/221 - 0s - loss: 9.6133e-04\n",
      "Epoch 86/100\n",
      "221/221 - 0s - loss: 9.5661e-04\n",
      "Epoch 87/100\n",
      "221/221 - 0s - loss: 9.8478e-04\n",
      "Epoch 88/100\n",
      "221/221 - 0s - loss: 9.6957e-04\n",
      "Epoch 89/100\n",
      "221/221 - 0s - loss: 0.0010\n",
      "Epoch 90/100\n",
      "221/221 - 0s - loss: 9.8095e-04\n",
      "Epoch 91/100\n",
      "221/221 - 0s - loss: 9.7009e-04\n",
      "Epoch 92/100\n",
      "221/221 - 0s - loss: 9.6740e-04\n",
      "Epoch 93/100\n",
      "221/221 - 0s - loss: 9.8972e-04\n",
      "Epoch 94/100\n",
      "221/221 - 0s - loss: 9.7480e-04\n",
      "Epoch 95/100\n",
      "221/221 - 0s - loss: 9.9046e-04\n",
      "Epoch 96/100\n",
      "221/221 - 0s - loss: 9.9755e-04\n",
      "Epoch 97/100\n",
      "221/221 - 0s - loss: 9.6535e-04\n",
      "Epoch 98/100\n",
      "221/221 - 0s - loss: 9.2812e-04\n",
      "Epoch 99/100\n",
      "221/221 - 0s - loss: 9.8463e-04\n",
      "Epoch 100/100\n",
      "221/221 - 0s - loss: 0.0010\n"
     ]
    },
    {
     "data": {
      "text/plain": [
       "<tensorflow.python.keras.callbacks.History at 0x23737d94408>"
      ]
     },
     "execution_count": 11,
     "metadata": {},
     "output_type": "execute_result"
    }
   ],
   "source": [
    "# create and fit the LSTM network\n",
    "model = Sequential()\n",
    "model.add(LSTM(4, input_shape=(1, look_back)))\n",
    "model.add(Dense(1))\n",
    "model.compile(loss='mean_squared_error', optimizer='adam')\n",
    "model.fit(trainX, trainY, epochs=100, batch_size=1, verbose=2)"
   ]
  },
  {
   "cell_type": "code",
   "execution_count": 12,
   "id": "59447208",
   "metadata": {},
   "outputs": [
    {
     "name": "stdout",
     "output_type": "stream",
     "text": [
      "Train Score: 2.03 RMSE\n",
      "Test Score: 3.40 RMSE\n"
     ]
    }
   ],
   "source": [
    "# make predictions\n",
    "trainPredict = model.predict(trainX)\n",
    "testPredict = model.predict(testX)\n",
    "\n",
    "# invert predictions\n",
    "trainPredict = scaler.inverse_transform(trainPredict)\n",
    "trainY = scaler.inverse_transform([trainY])\n",
    "testPredict = scaler.inverse_transform(testPredict)\n",
    "testY = scaler.inverse_transform([testY])\n",
    "\n",
    "# calculate root mean squared error\n",
    "trainScore = math.sqrt(mean_squared_error(trainY[0], trainPredict[:,0]))\n",
    "print('Train Score: %.2f RMSE' % (trainScore))\n",
    "testScore = math.sqrt(mean_squared_error(testY[0], testPredict[:,0]))\n",
    "print('Test Score: %.2f RMSE' % (testScore))"
   ]
  },
  {
   "cell_type": "code",
   "execution_count": 13,
   "id": "3b81870e",
   "metadata": {},
   "outputs": [
    {
     "data": {
      "image/png": "[encoded data removed]",
      "text/plain": [
       "<Figure size 432x288 with 1 Axes>"
      ]
     },
     "metadata": {
      "needs_background": "light"
     },
     "output_type": "display_data"
    }
   ],
   "source": [
    "# shift train predictions for plotting\n",
    "trainPredictPlot = np.empty_like(dataset)\n",
    "trainPredictPlot[:, :] = np.nan\n",
    "trainPredictPlot[look_back:len(trainPredict)+look_back, :] = trainPredict\n",
    "\n",
    "# shift test predictions for plotting\n",
    "testPredictPlot = np.empty_like(dataset)\n",
    "testPredictPlot[:, :] = np.nan\n",
    "testPredictPlot[len(trainPredict)+(look_back*2)+1:len(dataset)-1, :] = testPredict\n",
    "\n",
    "# plot baseline and predictions\n",
    "plt.plot(scaler.inverse_transform(dataset))\n",
    "#plt.plot(trainPredictPlot)\n",
    "plt.plot(testPredictPlot)\n",
    "plt.show()"
   ]
  },
  {
   "cell_type": "code",
   "execution_count": null,
   "id": "50fbc920",
   "metadata": {},
   "outputs": [],
   "source": []
  },
  {
   "cell_type": "code",
   "execution_count": null,
   "id": "f11a8ff5",
   "metadata": {},
   "outputs": [],
   "source": []
  }
 ],
 "metadata": {
  "kernelspec": {
   "display_name": "Python 3 (ipykernel)",
   "language": "python",
   "name": "python3"
  },
  "language_info": {
   "codemirror_mode": {
    "name": "ipython",
    "version": 3
   },
   "file_extension": ".py",
   "mimetype": "text/x-python",
   "name": "python",
   "nbconvert_exporter": "python",
   "pygments_lexer": "ipython3",
   "version": "3.7.7"
  }
 },
 "nbformat": 4,
 "nbformat_minor": 5
}
